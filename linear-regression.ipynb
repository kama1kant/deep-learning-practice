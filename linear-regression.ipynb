{
 "cells": [
  {
   "cell_type": "markdown",
   "id": "4fbd06fd-188e-405c-b8aa-c833da7c0f5c",
   "metadata": {},
   "source": [
    "## Scratch"
   ]
  },
  {
   "cell_type": "code",
   "execution_count": 84,
   "id": "8f8b8fe9-e755-4649-8881-578550a30e4f",
   "metadata": {},
   "outputs": [],
   "source": [
    "import numpy as np\n",
    "import torch\n",
    "\n",
    "class Regression1:\n",
    "    def __init__(self, input, target):\n",
    "        self.input = input\n",
    "        self.target = target\n",
    "        self.pred = torch.randn(target.size()[0], target.size()[1])\n",
    "        self.init_wb()\n",
    "        self.loss = float('inf')\n",
    "\n",
    "    def init_wb(self):\n",
    "        self.w = torch.randn(self.target.size()[1], self.input.size()[1], requires_grad=True)\n",
    "        self.b = torch.randn(self.target.size()[1], requires_grad=True)\n",
    "    \n",
    "    def model(self):\n",
    "        return self.input @ self.w.t() + self.b\n",
    "    \n",
    "    def mse(self):\n",
    "        diff = self.pred - self.target\n",
    "        return torch.sum(diff * diff) / diff.numel()\n",
    "    \n",
    "    def train(self, epoch):\n",
    "        for i in range(epoch):\n",
    "            self.pred = self.model()\n",
    "            self.loss = self.mse()\n",
    "            self.loss.backward()\n",
    "            with torch.no_grad():\n",
    "                self.w -= self.w.grad * 1e-5\n",
    "                self.b -= self.b.grad * 1e-5\n",
    "                self.w.grad.zero_()\n",
    "                self.b.grad.zero_()\n",
    "                \n",
    "            if (i+1) % 10 == 0:\n",
    "                print('Epoch [{}/{}], Loss: {:.4f}'.format(i+1, epoch, self.loss))"
   ]
  },
  {
   "cell_type": "code",
   "execution_count": 111,
   "id": "aef26167-5c4a-4f54-909d-18b0c91f0dba",
   "metadata": {},
   "outputs": [],
   "source": [
    "input = np.array([[73, 67, 43], \n",
    "                   [91, 88, 64], \n",
    "                   [87, 134, 58], \n",
    "                   [102, 43, 37], \n",
    "                   [69, 96, 70]], dtype='float32')\n",
    "\n",
    "target = np.array([[56, 70], \n",
    "                    [81, 101], \n",
    "                    [119, 133], \n",
    "                    [22, 37], \n",
    "                    [103, 119]], dtype='float32')\n",
    "\n",
    "input = torch.from_numpy(input)\n",
    "target = torch.from_numpy(target)"
   ]
  },
  {
   "cell_type": "code",
   "execution_count": 86,
   "id": "57019931-9ca6-46a0-b117-6950a2795362",
   "metadata": {},
   "outputs": [
    {
     "name": "stdout",
     "output_type": "stream",
     "text": [
      "torch.Size([5, 3])\n",
      "torch.Size([5, 2])\n"
     ]
    }
   ],
   "source": [
    "r1 = Regression1(input, target)\n",
    "\n",
    "print(r1.input.shape)\n",
    "print(r1.target.shape)"
   ]
  },
  {
   "cell_type": "code",
   "execution_count": 87,
   "id": "54b7d8d9-7d29-43a8-b47a-94215547c024",
   "metadata": {},
   "outputs": [
    {
     "name": "stdout",
     "output_type": "stream",
     "text": [
      "inf\n",
      "tensor([[ 56.,  70.],\n",
      "        [ 81., 101.],\n",
      "        [119., 133.],\n",
      "        [ 22.,  37.],\n",
      "        [103., 119.]])\n",
      "tensor([[ 0.4723, -1.3326],\n",
      "        [ 0.6007, -0.0127],\n",
      "        [-0.8366,  0.3843],\n",
      "        [-0.7716,  0.8846],\n",
      "        [-0.0068, -1.0080]])\n"
     ]
    }
   ],
   "source": [
    "print(r1.loss)\n",
    "print(r1.target)\n",
    "print(r1.pred)"
   ]
  },
  {
   "cell_type": "code",
   "execution_count": 88,
   "id": "50bf61db-e950-4973-8534-b73fb8873bad",
   "metadata": {},
   "outputs": [
    {
     "name": "stdout",
     "output_type": "stream",
     "text": [
      "Epoch [10/200], Loss: 1281.0388\n",
      "Epoch [20/200], Loss: 277.4514\n",
      "Epoch [30/200], Loss: 239.7493\n",
      "Epoch [40/200], Loss: 222.6698\n",
      "Epoch [50/200], Loss: 207.7260\n",
      "Epoch [60/200], Loss: 194.3576\n",
      "Epoch [70/200], Loss: 182.3743\n",
      "Epoch [80/200], Loss: 171.6148\n",
      "Epoch [90/200], Loss: 161.9367\n",
      "Epoch [100/200], Loss: 153.2149\n",
      "Epoch [110/200], Loss: 145.3386\n",
      "Epoch [120/200], Loss: 138.2108\n",
      "Epoch [130/200], Loss: 131.7457\n",
      "Epoch [140/200], Loss: 125.8677\n",
      "Epoch [150/200], Loss: 120.5101\n",
      "Epoch [160/200], Loss: 115.6140\n",
      "Epoch [170/200], Loss: 111.1280\n",
      "Epoch [180/200], Loss: 107.0060\n",
      "Epoch [190/200], Loss: 103.2079\n",
      "Epoch [200/200], Loss: 99.6981\n"
     ]
    }
   ],
   "source": [
    "r1.train(200)"
   ]
  },
  {
   "cell_type": "code",
   "execution_count": 89,
   "id": "852200f8-7a19-4f23-8b4c-3ede1f7463ba",
   "metadata": {},
   "outputs": [
    {
     "name": "stdout",
     "output_type": "stream",
     "text": [
      "tensor(99.6981, grad_fn=<DivBackward0>)\n",
      "tensor([[ 59.1608,  72.0354],\n",
      "        [ 75.7687,  96.1213],\n",
      "        [130.1261, 140.5266],\n",
      "        [ 32.2207,  47.0876],\n",
      "        [ 84.1538, 105.2219]], grad_fn=<AddBackward0>)\n"
     ]
    }
   ],
   "source": [
    "print(r1.loss)\n",
    "print(r1.pred)"
   ]
  },
  {
   "cell_type": "markdown",
   "id": "01a4f0c1-5d31-4de7-8498-59d70493fcf0",
   "metadata": {},
   "source": [
    "## Pytorch"
   ]
  },
  {
   "cell_type": "code",
   "execution_count": 33,
   "id": "bea9b47c-cb8e-4aae-9b7f-7f9a512555b2",
   "metadata": {},
   "outputs": [],
   "source": [
    "import torch.nn as nn\n",
    "from torch.utils.data import TensorDataset\n",
    "from torch.utils.data import DataLoader\n",
    "import torch.nn.functional as F"
   ]
  },
  {
   "cell_type": "code",
   "execution_count": 105,
   "id": "df5cc815-20a6-4fc5-ade0-3ac45aa70719",
   "metadata": {},
   "outputs": [],
   "source": [
    "class Regression2:\n",
    "    def __init__(self, input, target):\n",
    "        self.batch_size = 5\n",
    "        self.lr = 1e-5\n",
    "        self.loss = float('inf')\n",
    "        self.init_data(input, target)\n",
    "        self.init_model(input.size()[1], target.size()[1])\n",
    "        \n",
    "    def init_data(self, input, target):\n",
    "        train_ds = TensorDataset(input, target)\n",
    "        self.train_dl = DataLoader(train_ds, self.batch_size, shuffle=True)\n",
    "\n",
    "    def init_model(self, x_col, y_col):\n",
    "        self.model = nn.Linear(x_col, y_col)\n",
    "    \n",
    "    def cal_loss(self, pred, target):\n",
    "        loss_fn = F.mse_loss\n",
    "        return loss_fn(pred, target)\n",
    "    \n",
    "    def init_opt(self):\n",
    "        self.opt = torch.optim.SGD(self.model.parameters(), lr=self.lr)\n",
    "    \n",
    "    def train(self, total_epoch):\n",
    "        self.init_opt()\n",
    "        for epoch in range(total_epoch):\n",
    "            for input, target in self.train_dl:\n",
    "                pred = self.model(input)\n",
    "                self.loss = self.cal_loss(pred, target)\n",
    "                self.loss.backward()\n",
    "                self.opt.step()\n",
    "                self.opt.zero_grad()\n",
    "\n",
    "            if (epoch+1) % 10 == 0:\n",
    "                print('Epoch [{}/{}], Loss: {:.4f}'.format(epoch+1, total_epoch, self.loss.item()))"
   ]
  },
  {
   "cell_type": "code",
   "execution_count": 110,
   "id": "d118b099-b716-45b2-9793-9ffca0a35e60",
   "metadata": {},
   "outputs": [],
   "source": [
    "input = np.array([[73, 67, 43], \n",
    "                   [91, 88, 64], \n",
    "                   [87, 134, 58], \n",
    "                   [102, 43, 37], \n",
    "                   [69, 96, 70], \n",
    "                   [74, 66, 43], \n",
    "                   [91, 87, 65], \n",
    "                   [88, 134, 59], \n",
    "                   [101, 44, 37], \n",
    "                   [68, 96, 71], \n",
    "                   [73, 66, 44], \n",
    "                   [92, 87, 64], \n",
    "                   [87, 135, 57], \n",
    "                   [103, 43, 36], \n",
    "                   [68, 97, 70]], \n",
    "                  dtype='float32')\n",
    "\n",
    "# Targets (apples, oranges)\n",
    "target = np.array([[56, 70], \n",
    "                    [81, 101], \n",
    "                    [119, 133], \n",
    "                    [22, 37], \n",
    "                    [103, 119],\n",
    "                    [57, 69], \n",
    "                    [80, 102], \n",
    "                    [118, 132], \n",
    "                    [21, 38], \n",
    "                    [104, 118], \n",
    "                    [57, 69], \n",
    "                    [82, 100], \n",
    "                    [118, 134], \n",
    "                    [20, 38], \n",
    "                    [102, 120]], \n",
    "                   dtype='float32')\n",
    "\n",
    "input = torch.from_numpy(input)\n",
    "target = torch.from_numpy(target)"
   ]
  },
  {
   "cell_type": "code",
   "execution_count": 107,
   "id": "70d52e10-343e-42a1-a168-08f50c64aae8",
   "metadata": {},
   "outputs": [],
   "source": [
    "r2 = Regression2(input, target)"
   ]
  },
  {
   "cell_type": "code",
   "execution_count": 108,
   "id": "07e15dd0-a80e-4716-817d-c7c6d7615efd",
   "metadata": {},
   "outputs": [
    {
     "name": "stdout",
     "output_type": "stream",
     "text": [
      "Epoch [10/200], Loss: 526.7911\n",
      "Epoch [20/200], Loss: 641.8920\n",
      "Epoch [30/200], Loss: 181.6533\n",
      "Epoch [40/200], Loss: 187.2015\n",
      "Epoch [50/200], Loss: 200.2147\n",
      "Epoch [60/200], Loss: 35.0323\n",
      "Epoch [70/200], Loss: 75.4663\n",
      "Epoch [80/200], Loss: 32.3763\n",
      "Epoch [90/200], Loss: 27.0763\n",
      "Epoch [100/200], Loss: 21.8047\n",
      "Epoch [110/200], Loss: 25.4438\n",
      "Epoch [120/200], Loss: 17.2758\n",
      "Epoch [130/200], Loss: 16.2277\n",
      "Epoch [140/200], Loss: 9.5433\n",
      "Epoch [150/200], Loss: 9.7288\n",
      "Epoch [160/200], Loss: 9.6786\n",
      "Epoch [170/200], Loss: 8.0269\n",
      "Epoch [180/200], Loss: 4.5977\n",
      "Epoch [190/200], Loss: 3.8275\n",
      "Epoch [200/200], Loss: 5.7100\n"
     ]
    }
   ],
   "source": [
    "r2.train(200)"
   ]
  },
  {
   "cell_type": "code",
   "execution_count": 109,
   "id": "6b1b9330-e467-4186-aabb-e3764ffa746b",
   "metadata": {},
   "outputs": [
    {
     "data": {
      "text/plain": [
       "tensor([[ 56.9838,  70.8880],\n",
       "        [ 81.7998,  98.8292],\n",
       "        [118.8965, 135.8326],\n",
       "        [ 21.2904,  40.1613],\n",
       "        [101.0646, 114.1874],\n",
       "        [ 55.7403,  69.8107],\n",
       "        [ 81.5953,  98.5983],\n",
       "        [119.1650, 136.2637],\n",
       "        [ 22.5339,  41.2386],\n",
       "        [102.1037, 115.0339],\n",
       "        [ 56.7793,  70.6572],\n",
       "        [ 80.5563,  97.7518],\n",
       "        [119.1010, 136.0634],\n",
       "        [ 20.2513,  39.3148],\n",
       "        [102.3081, 115.2648]], grad_fn=<AddmmBackward>)"
      ]
     },
     "execution_count": 109,
     "metadata": {},
     "output_type": "execute_result"
    }
   ],
   "source": [
    "preds = r2.model(input)\n",
    "preds"
   ]
  },
  {
   "cell_type": "code",
   "execution_count": 104,
   "id": "177d947b-e698-4b47-aeb0-f44078feb701",
   "metadata": {},
   "outputs": [
    {
     "data": {
      "text/plain": [
       "tensor([[53.7683, 67.4697]], grad_fn=<AddmmBackward>)"
      ]
     },
     "execution_count": 104,
     "metadata": {},
     "output_type": "execute_result"
    }
   ],
   "source": [
    "r2.model(torch.tensor([[75, 63, 44.]]))"
   ]
  },
  {
   "cell_type": "code",
   "execution_count": null,
   "id": "e4cae8fa-7d24-4b06-bc9f-2608d9b61dd2",
   "metadata": {},
   "outputs": [],
   "source": []
  }
 ],
 "metadata": {
  "kernelspec": {
   "display_name": "Python 3",
   "language": "python",
   "name": "python3"
  },
  "language_info": {
   "codemirror_mode": {
    "name": "ipython",
    "version": 3
   },
   "file_extension": ".py",
   "mimetype": "text/x-python",
   "name": "python",
   "nbconvert_exporter": "python",
   "pygments_lexer": "ipython3",
   "version": "3.8.8"
  }
 },
 "nbformat": 4,
 "nbformat_minor": 5
}
